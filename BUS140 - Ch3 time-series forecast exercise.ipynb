{
 "cells": [
  {
   "cell_type": "code",
   "execution_count": 34,
   "id": "a3ac014e",
   "metadata": {},
   "outputs": [],
   "source": [
    "import pandas as pd\n",
    "import matplotlib.pyplot as plt\n",
    "\n",
    "# Forecast September salesvolume using (1) naive (2) 5mo. moving avg (3) weighted avg"
   ]
  },
  {
   "cell_type": "code",
   "execution_count": 41,
   "id": "1092b0d9",
   "metadata": {},
   "outputs": [],
   "source": [
    "df = {'month': [2,3,4,5,6,7,8], 'sales': [19,18,15,20,18,22,20]}\n",
    "df = pd.DataFrame(data=df)\n",
    "df.set_index(['month'],inplace=True)"
   ]
  },
  {
   "cell_type": "code",
   "execution_count": 42,
   "id": "da42777f",
   "metadata": {},
   "outputs": [
    {
     "data": {
      "text/html": [
       "<div>\n",
       "<style scoped>\n",
       "    .dataframe tbody tr th:only-of-type {\n",
       "        vertical-align: middle;\n",
       "    }\n",
       "\n",
       "    .dataframe tbody tr th {\n",
       "        vertical-align: top;\n",
       "    }\n",
       "\n",
       "    .dataframe thead th {\n",
       "        text-align: right;\n",
       "    }\n",
       "</style>\n",
       "<table border=\"1\" class=\"dataframe\">\n",
       "  <thead>\n",
       "    <tr style=\"text-align: right;\">\n",
       "      <th></th>\n",
       "      <th>sales</th>\n",
       "    </tr>\n",
       "    <tr>\n",
       "      <th>month</th>\n",
       "      <th></th>\n",
       "    </tr>\n",
       "  </thead>\n",
       "  <tbody>\n",
       "    <tr>\n",
       "      <th>2</th>\n",
       "      <td>19</td>\n",
       "    </tr>\n",
       "    <tr>\n",
       "      <th>3</th>\n",
       "      <td>18</td>\n",
       "    </tr>\n",
       "    <tr>\n",
       "      <th>4</th>\n",
       "      <td>15</td>\n",
       "    </tr>\n",
       "    <tr>\n",
       "      <th>5</th>\n",
       "      <td>20</td>\n",
       "    </tr>\n",
       "    <tr>\n",
       "      <th>6</th>\n",
       "      <td>18</td>\n",
       "    </tr>\n",
       "    <tr>\n",
       "      <th>7</th>\n",
       "      <td>22</td>\n",
       "    </tr>\n",
       "    <tr>\n",
       "      <th>8</th>\n",
       "      <td>20</td>\n",
       "    </tr>\n",
       "  </tbody>\n",
       "</table>\n",
       "</div>"
      ],
      "text/plain": [
       "       sales\n",
       "month       \n",
       "2         19\n",
       "3         18\n",
       "4         15\n",
       "5         20\n",
       "6         18\n",
       "7         22\n",
       "8         20"
      ]
     },
     "execution_count": 42,
     "metadata": {},
     "output_type": "execute_result"
    }
   ],
   "source": [
    "df"
   ]
  },
  {
   "cell_type": "code",
   "execution_count": 47,
   "id": "25ec3b47",
   "metadata": {},
   "outputs": [
    {
     "name": "stderr",
     "output_type": "stream",
     "text": [
      "C:\\Users\\Darling\\AppData\\Local\\Temp\\ipykernel_9996\\524487831.py:7: FutureWarning: The frame.append method is deprecated and will be removed from pandas in a future version. Use pandas.concat instead.\n",
      "  naive_df = df.append(naive_value)\n"
     ]
    }
   ],
   "source": [
    "# Naive approach in time-series\n",
    "# sets single previous value as basis for forecast. Equal to previous time value\n",
    "\n",
    "# establish as last value and set index to 9 (sept)\n",
    "naive_value = pd.DataFrame({'month': [9], 'sales': [df['sales'].iloc[-1]]}) \n",
    "naive_value.set_index(['month'],inplace=True)\n",
    "naive_df = df.append(naive_value)\n",
    "\n",
    "# sort by index\n",
    "naive_df = naive_df.sort_index()"
   ]
  },
  {
   "cell_type": "code",
   "execution_count": 49,
   "id": "c5250d70",
   "metadata": {},
   "outputs": [
    {
     "data": {
      "text/html": [
       "<div>\n",
       "<style scoped>\n",
       "    .dataframe tbody tr th:only-of-type {\n",
       "        vertical-align: middle;\n",
       "    }\n",
       "\n",
       "    .dataframe tbody tr th {\n",
       "        vertical-align: top;\n",
       "    }\n",
       "\n",
       "    .dataframe thead th {\n",
       "        text-align: right;\n",
       "    }\n",
       "</style>\n",
       "<table border=\"1\" class=\"dataframe\">\n",
       "  <thead>\n",
       "    <tr style=\"text-align: right;\">\n",
       "      <th></th>\n",
       "      <th>sales</th>\n",
       "    </tr>\n",
       "    <tr>\n",
       "      <th>month</th>\n",
       "      <th></th>\n",
       "    </tr>\n",
       "  </thead>\n",
       "  <tbody>\n",
       "    <tr>\n",
       "      <th>2</th>\n",
       "      <td>19</td>\n",
       "    </tr>\n",
       "    <tr>\n",
       "      <th>3</th>\n",
       "      <td>18</td>\n",
       "    </tr>\n",
       "    <tr>\n",
       "      <th>4</th>\n",
       "      <td>15</td>\n",
       "    </tr>\n",
       "    <tr>\n",
       "      <th>5</th>\n",
       "      <td>20</td>\n",
       "    </tr>\n",
       "    <tr>\n",
       "      <th>6</th>\n",
       "      <td>18</td>\n",
       "    </tr>\n",
       "    <tr>\n",
       "      <th>7</th>\n",
       "      <td>22</td>\n",
       "    </tr>\n",
       "    <tr>\n",
       "      <th>8</th>\n",
       "      <td>20</td>\n",
       "    </tr>\n",
       "    <tr>\n",
       "      <th>9</th>\n",
       "      <td>20</td>\n",
       "    </tr>\n",
       "  </tbody>\n",
       "</table>\n",
       "</div>"
      ],
      "text/plain": [
       "       sales\n",
       "month       \n",
       "2         19\n",
       "3         18\n",
       "4         15\n",
       "5         20\n",
       "6         18\n",
       "7         22\n",
       "8         20\n",
       "9         20"
      ]
     },
     "execution_count": 49,
     "metadata": {},
     "output_type": "execute_result"
    }
   ],
   "source": [
    "naive_df"
   ]
  },
  {
   "cell_type": "code",
   "execution_count": 56,
   "id": "0d477625",
   "metadata": {},
   "outputs": [
    {
     "name": "stderr",
     "output_type": "stream",
     "text": [
      "C:\\Users\\Darling\\AppData\\Local\\Temp\\ipykernel_9996\\1881215648.py:9: FutureWarning: The frame.append method is deprecated and will be removed from pandas in a future version. Use pandas.concat instead.\n",
      "  move_avg_df = df.append(pd.DataFrame({'sales': [move_avg_value]}, index=[next_month]))\n"
     ]
    },
    {
     "data": {
      "text/html": [
       "<div>\n",
       "<style scoped>\n",
       "    .dataframe tbody tr th:only-of-type {\n",
       "        vertical-align: middle;\n",
       "    }\n",
       "\n",
       "    .dataframe tbody tr th {\n",
       "        vertical-align: top;\n",
       "    }\n",
       "\n",
       "    .dataframe thead th {\n",
       "        text-align: right;\n",
       "    }\n",
       "</style>\n",
       "<table border=\"1\" class=\"dataframe\">\n",
       "  <thead>\n",
       "    <tr style=\"text-align: right;\">\n",
       "      <th></th>\n",
       "      <th>sales</th>\n",
       "    </tr>\n",
       "  </thead>\n",
       "  <tbody>\n",
       "    <tr>\n",
       "      <th>2</th>\n",
       "      <td>19.0</td>\n",
       "    </tr>\n",
       "    <tr>\n",
       "      <th>3</th>\n",
       "      <td>18.0</td>\n",
       "    </tr>\n",
       "    <tr>\n",
       "      <th>4</th>\n",
       "      <td>15.0</td>\n",
       "    </tr>\n",
       "    <tr>\n",
       "      <th>5</th>\n",
       "      <td>20.0</td>\n",
       "    </tr>\n",
       "    <tr>\n",
       "      <th>6</th>\n",
       "      <td>18.0</td>\n",
       "    </tr>\n",
       "    <tr>\n",
       "      <th>7</th>\n",
       "      <td>22.0</td>\n",
       "    </tr>\n",
       "    <tr>\n",
       "      <th>8</th>\n",
       "      <td>20.0</td>\n",
       "    </tr>\n",
       "    <tr>\n",
       "      <th>9</th>\n",
       "      <td>19.0</td>\n",
       "    </tr>\n",
       "  </tbody>\n",
       "</table>\n",
       "</div>"
      ],
      "text/plain": [
       "   sales\n",
       "2   19.0\n",
       "3   18.0\n",
       "4   15.0\n",
       "5   20.0\n",
       "6   18.0\n",
       "7   22.0\n",
       "8   20.0\n",
       "9   19.0"
      ]
     },
     "execution_count": 56,
     "metadata": {},
     "output_type": "execute_result"
    }
   ],
   "source": [
    "# 5 months Moving Average in time-series\n",
    "# Where moving average for 5 months = (m8,m7,m6,m5,m4)/5\n",
    "\n",
    "move_avg_value = df.loc[df.index >= 4]\n",
    "move_avg_value = move_avg_value['sales'].sum() / 5\n",
    "\n",
    "# Increment index by 1 and append move_avg_values as sales column\n",
    "next_month = df.index[-1] + 1\n",
    "move_avg_df = df.append(pd.DataFrame({'sales': [move_avg_value]}, index=[next_month]))\n",
    "\n",
    "move_avg_df"
   ]
  },
  {
   "cell_type": "code",
   "execution_count": 61,
   "id": "7e8c7b82",
   "metadata": {},
   "outputs": [
    {
     "name": "stderr",
     "output_type": "stream",
     "text": [
      "C:\\Users\\Darling\\AppData\\Local\\Temp\\ipykernel_9996\\1139609466.py:15: FutureWarning: The frame.append method is deprecated and will be removed from pandas in a future version. Use pandas.concat instead.\n",
      "  weight_avg_df = df.append(pd.DataFrame({'sales': [weight_avg_forecast]}, index=[next_month]))\n"
     ]
    },
    {
     "data": {
      "text/html": [
       "<div>\n",
       "<style scoped>\n",
       "    .dataframe tbody tr th:only-of-type {\n",
       "        vertical-align: middle;\n",
       "    }\n",
       "\n",
       "    .dataframe tbody tr th {\n",
       "        vertical-align: top;\n",
       "    }\n",
       "\n",
       "    .dataframe thead th {\n",
       "        text-align: right;\n",
       "    }\n",
       "</style>\n",
       "<table border=\"1\" class=\"dataframe\">\n",
       "  <thead>\n",
       "    <tr style=\"text-align: right;\">\n",
       "      <th></th>\n",
       "      <th>sales</th>\n",
       "    </tr>\n",
       "  </thead>\n",
       "  <tbody>\n",
       "    <tr>\n",
       "      <th>2</th>\n",
       "      <td>19.0</td>\n",
       "    </tr>\n",
       "    <tr>\n",
       "      <th>3</th>\n",
       "      <td>18.0</td>\n",
       "    </tr>\n",
       "    <tr>\n",
       "      <th>4</th>\n",
       "      <td>15.0</td>\n",
       "    </tr>\n",
       "    <tr>\n",
       "      <th>5</th>\n",
       "      <td>20.0</td>\n",
       "    </tr>\n",
       "    <tr>\n",
       "      <th>6</th>\n",
       "      <td>18.0</td>\n",
       "    </tr>\n",
       "    <tr>\n",
       "      <th>7</th>\n",
       "      <td>22.0</td>\n",
       "    </tr>\n",
       "    <tr>\n",
       "      <th>8</th>\n",
       "      <td>20.0</td>\n",
       "    </tr>\n",
       "    <tr>\n",
       "      <th>9</th>\n",
       "      <td>20.4</td>\n",
       "    </tr>\n",
       "  </tbody>\n",
       "</table>\n",
       "</div>"
      ],
      "text/plain": [
       "   sales\n",
       "2   19.0\n",
       "3   18.0\n",
       "4   15.0\n",
       "5   20.0\n",
       "6   18.0\n",
       "7   22.0\n",
       "8   20.0\n",
       "9   20.4"
      ]
     },
     "execution_count": 61,
     "metadata": {},
     "output_type": "execute_result"
    }
   ],
   "source": [
    "# Weighted Average time-series forecasting\n",
    "# Given weight averages use 0.60 Aug, 0.30 July, 0.10 June\n",
    "\n",
    "# Select June - Aug sales values\n",
    "weight_avg_df = df.loc[df.index >= 6]\n",
    "\n",
    "# Add Column, weighted average\n",
    "weight_avg_df = weight_avg_df.assign(weight=[0.1,0.3,0.6])\n",
    "\n",
    "# Multiply per row and sum the weighted average forecast\n",
    "weight_avg_forecast = (weight_avg_df['sales'] * weight_avg_df['weight']).sum()\n",
    "\n",
    "# Append weighted average forecast value to the original dataframe\n",
    "next_month = weight_avg_df.index[-1] + 1 \n",
    "weight_avg_df = df.append(pd.DataFrame({'sales': [weight_avg_forecast]}, index=[next_month]))\n",
    "\n",
    "weight_avg_df"
   ]
  },
  {
   "cell_type": "code",
   "execution_count": 71,
   "id": "dc63733e",
   "metadata": {},
   "outputs": [],
   "source": [
    "def autolabel(rects, ax):\n",
    "    for rect in rects:\n",
    "        height = rect.get_height()\n",
    "        ax.annotate('{}'.format(height),\n",
    "                    xy=(rect.get_x() + rect.get_width() / 2, height),\n",
    "                    xytext=(0, 3),  # 3 points vertical offset\n",
    "                    textcoords=\"offset points\",\n",
    "                    ha='center', va='bottom')\n"
   ]
  },
  {
   "cell_type": "code",
   "execution_count": 74,
   "id": "2b3ff103",
   "metadata": {},
   "outputs": [
    {
     "data": {
      "image/png": "[encoded data removed]",
      "text/plain": [
       "<Figure size 1000x600 with 1 Axes>"
      ]
     },
     "metadata": {},
     "output_type": "display_data"
    }
   ],
   "source": [
    "# Plot the September forecasts as a bar graph\n",
    "fig, ax = plt.subplots(figsize=(10, 6))\n",
    "\n",
    "bar_width = 0.25\n",
    "opacity = 0.8\n",
    "\n",
    "september_index = next_month\n",
    "\n",
    "rects1 = ax.bar(1 - bar_width, naive_df.loc[september_index]['sales'], bar_width,\n",
    "                alpha=opacity, color='b', label='Original')\n",
    "\n",
    "rects2 = ax.bar(1, move_avg_df.loc[september_index]['sales'], bar_width,\n",
    "                alpha=opacity, color='g', label='Moving Average')\n",
    "\n",
    "rects3 = ax.bar(1 + bar_width, weight_avg_df.loc[september_index]['sales'], bar_width,\n",
    "                alpha=opacity, color='r', label='Weighted Average')\n",
    "\n",
    "autolabel(rects1, ax)\n",
    "autolabel(rects2, ax)\n",
    "autolabel(rects3, ax)\n",
    "\n",
    "ax.set_xlabel('Forecasting Methods')\n",
    "ax.set_ylabel('Sales')\n",
    "ax.set_xticks([1 - bar_width, 1, 1 + bar_width])\n",
    "ax.set_xticklabels(['Naive', 'Moving Average', 'Weighted Average'])\n",
    "plt.title('September Sales Forecasting')\n",
    "\n",
    "plt.show()"
   ]
  }
 ],
 "metadata": {
  "kernelspec": {
   "display_name": "Python 3 (ipykernel)",
   "language": "python",
   "name": "python3"
  },
  "language_info": {
   "codemirror_mode": {
    "name": "ipython",
    "version": 3
   },
   "file_extension": ".py",
   "mimetype": "text/x-python",
   "name": "python",
   "nbconvert_exporter": "python",
   "pygments_lexer": "ipython3",
   "version": "3.11.3"
  }
 },
 "nbformat": 4,
 "nbformat_minor": 5
}
